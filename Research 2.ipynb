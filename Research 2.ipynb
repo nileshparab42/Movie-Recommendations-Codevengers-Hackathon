{
 "cells": [
  {
   "cell_type": "code",
   "execution_count": 1,
   "id": "81069ac8",
   "metadata": {},
   "outputs": [],
   "source": [
    "import numpy as np\n",
    "import pandas as pd\n",
    "import difflib\n",
    "from sklearn.feature_extraction.text import TfidfVectorizer\n",
    "# TfidfVectorizer - This is used to convert text data into numerical values\n",
    "from sklearn.metrics.pairwise import cosine_similarity\n",
    "import os"
   ]
  },
  {
   "cell_type": "code",
   "execution_count": 2,
   "id": "b8a4b3f0",
   "metadata": {},
   "outputs": [],
   "source": [
    "movies_data =pd.read_csv('movies.csv')"
   ]
  },
  {
   "cell_type": "code",
   "execution_count": 5,
   "id": "66b7dc17",
   "metadata": {},
   "outputs": [
    {
     "name": "stdout",
     "output_type": "stream",
     "text": [
      "Similarity data loaded successfully.\n"
     ]
    }
   ],
   "source": [
    "import pickle\n",
    "\n",
    "# File path from which to load pickled similarity data\n",
    "pickle_file_path = 'similarity.pkl'\n",
    "\n",
    "# Unpickle the similarity data from the file\n",
    "with open(pickle_file_path, 'rb') as f:\n",
    "    similarity = pickle.load(f)\n",
    "\n",
    "print(\"Similarity data loaded successfully.\")\n"
   ]
  },
  {
   "cell_type": "code",
   "execution_count": 6,
   "id": "0badc6cf",
   "metadata": {},
   "outputs": [
    {
     "name": "stdout",
     "output_type": "stream",
     "text": [
      "Movies suggested for you : \n",
      "\n",
      "1 . The Avengers\n",
      "2 . Avengers: Age of Ultron\n",
      "3 . Captain America: The Winter Soldier\n",
      "4 . Captain America: Civil War\n",
      "5 . Iron Man 2\n",
      "6 . Thor: The Dark World\n",
      "7 . X-Men\n",
      "8 . The Incredible Hulk\n",
      "9 . X-Men: Apocalypse\n",
      "10 . Ant-Man\n",
      "11 . Thor\n",
      "12 . X2\n",
      "13 . X-Men: The Last Stand\n",
      "14 . Deadpool\n",
      "15 . X-Men: Days of Future Past\n",
      "16 . Captain America: The First Avenger\n",
      "17 . The Amazing Spider-Man 2\n",
      "18 . The Image Revolution\n",
      "19 . Iron Man\n",
      "20 . Iron Man 3\n",
      "21 . Man of Steel\n",
      "22 . The Spirit\n",
      "23 . Superman II\n",
      "24 . X-Men: First Class\n",
      "25 . Guardians of the Galaxy\n",
      "26 . Batman v Superman: Dawn of Justice\n",
      "27 . Serenity\n",
      "28 . Spawn\n",
      "29 . Teenage Mutant Ninja Turtles: Out of the Shadows\n"
     ]
    }
   ],
   "source": [
    "movie_name = 'Avengers'\n",
    "\n",
    "list_of_all_titles = movies_data['title'].tolist()\n",
    "\n",
    "find_close_match = difflib.get_close_matches(movie_name, list_of_all_titles)\n",
    "\n",
    "close_match = find_close_match[0]\n",
    "\n",
    "index_of_the_movie = movies_data[movies_data.title == close_match]['index'].values[0]\n",
    "\n",
    "similarity_score = list(enumerate(similarity[index_of_the_movie]))\n",
    "\n",
    "sorted_similar_movies = sorted(similarity_score, key = lambda x:x[1], reverse = True) \n",
    "\n",
    "print('Movies suggested for you : \\n')\n",
    "\n",
    "i = 1\n",
    "\n",
    "for movie in sorted_similar_movies:\n",
    "  index = movie[0]\n",
    "  title_from_index = movies_data[movies_data.index==index]['title'].values[0]\n",
    "  if (i<30):\n",
    "    print(i, '.',title_from_index)\n",
    "    i+=1"
   ]
  }
 ],
 "metadata": {
  "kernelspec": {
   "display_name": "Python 3 (ipykernel)",
   "language": "python",
   "name": "python3"
  },
  "language_info": {
   "codemirror_mode": {
    "name": "ipython",
    "version": 3
   },
   "file_extension": ".py",
   "mimetype": "text/x-python",
   "name": "python",
   "nbconvert_exporter": "python",
   "pygments_lexer": "ipython3",
   "version": "3.9.12"
  }
 },
 "nbformat": 4,
 "nbformat_minor": 5
}
